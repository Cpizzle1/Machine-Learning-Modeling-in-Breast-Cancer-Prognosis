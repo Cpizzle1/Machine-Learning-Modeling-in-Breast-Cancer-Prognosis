{
 "cells": [
  {
   "cell_type": "code",
   "execution_count": 1,
   "metadata": {},
   "outputs": [],
   "source": [
    "import pandas as pd\n",
    "import numpy as np\n",
    "import matplotlib.pyplot as plt\n",
    "%matplotlib inline\n",
    "from sklearn.decomposition import PCA\n",
    "from sklearn.linear_model import LogisticRegression,LogisticRegressionCV\n",
    "from sklearn.model_selection import RandomizedSearchCV,GridSearchCV\n",
    "from sklearn.ensemble import GradientBoostingRegressor, RandomForestClassifier,GradientBoostingClassifier\n",
    "from sklearn.model_selection import KFold, train_test_split\n",
    "from sklearn.metrics import r2_score, median_absolute_error, mean_absolute_error, accuracy_score, f1_score,accuracy_score\n",
    "from sklearn.ensemble import RandomForestRegressor\n",
    "from sklearn.tree import DecisionTreeRegressor\n",
    "from sklearn.model_selection import train_test_split, cross_val_score\n",
    "\n",
    "from sklearn.svm import SVC\n",
    "\n",
    "from sklearn import svm\n",
    "from sklearn.metrics import accuracy_score, precision_score, recall_score\n",
    "import pickle"
   ]
  },
  {
   "cell_type": "code",
   "execution_count": 2,
   "metadata": {},
   "outputs": [],
   "source": [
    "from sklearn.ensemble import RandomForestClassifier\n",
    "from sklearn.ensemble import GradientBoostingClassifier\n",
    "from sklearn.model_selection import train_test_split, cross_val_score\n",
    "from sklearn.model_selection import GridSearchCV, RandomizedSearchCV\n",
    "from sklearn.metrics import mean_squared_error, r2_score, make_scorer, roc_auc_score, roc_curve, auc\n",
    "import matplotlib.pyplot as plt\n",
    "plt.style.use('ggplot')\n",
    "import numpy as np\n",
    "import pandas as pd \n",
    "\n",
    "from sklearn.metrics import classification_report, confusion_matrix\n",
    "from sklearn.decomposition import PCA\n",
    "from mpl_toolkits.mplot3d import Axes3D"
   ]
  },
  {
   "cell_type": "code",
   "execution_count": 3,
   "metadata": {},
   "outputs": [
    {
     "name": "stderr",
     "output_type": "stream",
     "text": [
      "/Users/cpsanto/opt/anaconda3/lib/python3.7/site-packages/IPython/core/interactiveshell.py:3147: DtypeWarning: Columns (678,688,690,692) have mixed types.Specify dtype option on import or set low_memory=False.\n",
      "  interactivity=interactivity, compiler=compiler, result=result)\n"
     ]
    }
   ],
   "source": [
    "mrna_df =pd.read_csv('../data/capstone2.mrn_df2_laptop.csv')\n",
    "df = pd.read_csv('../data/METABRIC_RNA_Mutation.csv')"
   ]
  },
  {
   "cell_type": "code",
   "execution_count": 4,
   "metadata": {},
   "outputs": [
    {
     "data": {
      "text/html": [
       "<div>\n",
       "<style scoped>\n",
       "    .dataframe tbody tr th:only-of-type {\n",
       "        vertical-align: middle;\n",
       "    }\n",
       "\n",
       "    .dataframe tbody tr th {\n",
       "        vertical-align: top;\n",
       "    }\n",
       "\n",
       "    .dataframe thead th {\n",
       "        text-align: right;\n",
       "    }\n",
       "</style>\n",
       "<table border=\"1\" class=\"dataframe\">\n",
       "  <thead>\n",
       "    <tr style=\"text-align: right;\">\n",
       "      <th></th>\n",
       "      <th>Unnamed: 0</th>\n",
       "      <th>brca1</th>\n",
       "      <th>brca2</th>\n",
       "      <th>palb2</th>\n",
       "      <th>pten</th>\n",
       "      <th>tp53</th>\n",
       "      <th>atm</th>\n",
       "      <th>cdh1</th>\n",
       "      <th>chek2</th>\n",
       "      <th>nbn</th>\n",
       "      <th>...</th>\n",
       "      <th>srd5a2</th>\n",
       "      <th>srd5a3</th>\n",
       "      <th>st7</th>\n",
       "      <th>star</th>\n",
       "      <th>tnk2</th>\n",
       "      <th>tulp4</th>\n",
       "      <th>ugt2b15</th>\n",
       "      <th>ugt2b17</th>\n",
       "      <th>ugt2b7</th>\n",
       "      <th>death_from_cancer</th>\n",
       "    </tr>\n",
       "  </thead>\n",
       "  <tbody>\n",
       "    <tr>\n",
       "      <th>0</th>\n",
       "      <td>0</td>\n",
       "      <td>-1.3990</td>\n",
       "      <td>-0.5738</td>\n",
       "      <td>-1.6217</td>\n",
       "      <td>1.4524</td>\n",
       "      <td>0.3504</td>\n",
       "      <td>1.1517</td>\n",
       "      <td>0.0348</td>\n",
       "      <td>0.1266</td>\n",
       "      <td>-0.8361</td>\n",
       "      <td>...</td>\n",
       "      <td>-0.0194</td>\n",
       "      <td>-1.6345</td>\n",
       "      <td>-0.2142</td>\n",
       "      <td>-0.5698</td>\n",
       "      <td>-1.1741</td>\n",
       "      <td>-1.4779</td>\n",
       "      <td>-0.5954</td>\n",
       "      <td>-0.8847</td>\n",
       "      <td>-0.3354</td>\n",
       "      <td>0.0</td>\n",
       "    </tr>\n",
       "    <tr>\n",
       "      <th>1</th>\n",
       "      <td>1</td>\n",
       "      <td>-1.3800</td>\n",
       "      <td>0.2777</td>\n",
       "      <td>-1.2154</td>\n",
       "      <td>0.5296</td>\n",
       "      <td>-0.0136</td>\n",
       "      <td>-0.2659</td>\n",
       "      <td>1.3594</td>\n",
       "      <td>0.7961</td>\n",
       "      <td>0.5419</td>\n",
       "      <td>...</td>\n",
       "      <td>0.4534</td>\n",
       "      <td>0.4068</td>\n",
       "      <td>0.7634</td>\n",
       "      <td>0.0231</td>\n",
       "      <td>0.9121</td>\n",
       "      <td>-0.9538</td>\n",
       "      <td>-0.2264</td>\n",
       "      <td>0.5398</td>\n",
       "      <td>-0.8920</td>\n",
       "      <td>0.0</td>\n",
       "    </tr>\n",
       "    <tr>\n",
       "      <th>2</th>\n",
       "      <td>2</td>\n",
       "      <td>0.0670</td>\n",
       "      <td>-0.8426</td>\n",
       "      <td>0.2114</td>\n",
       "      <td>-0.3326</td>\n",
       "      <td>0.5141</td>\n",
       "      <td>-0.0803</td>\n",
       "      <td>1.1398</td>\n",
       "      <td>0.4187</td>\n",
       "      <td>-0.4030</td>\n",
       "      <td>...</td>\n",
       "      <td>0.0668</td>\n",
       "      <td>0.8344</td>\n",
       "      <td>1.7227</td>\n",
       "      <td>0.4024</td>\n",
       "      <td>-3.7172</td>\n",
       "      <td>-1.5538</td>\n",
       "      <td>1.3701</td>\n",
       "      <td>-0.1078</td>\n",
       "      <td>0.3655</td>\n",
       "      <td>1.0</td>\n",
       "    </tr>\n",
       "    <tr>\n",
       "      <th>3</th>\n",
       "      <td>3</td>\n",
       "      <td>0.6744</td>\n",
       "      <td>-0.5428</td>\n",
       "      <td>-1.6592</td>\n",
       "      <td>0.6369</td>\n",
       "      <td>1.6708</td>\n",
       "      <td>-0.8880</td>\n",
       "      <td>1.2491</td>\n",
       "      <td>-1.1889</td>\n",
       "      <td>-0.4174</td>\n",
       "      <td>...</td>\n",
       "      <td>-0.7078</td>\n",
       "      <td>0.8228</td>\n",
       "      <td>0.6819</td>\n",
       "      <td>-0.1948</td>\n",
       "      <td>-2.3286</td>\n",
       "      <td>-0.9924</td>\n",
       "      <td>-0.3154</td>\n",
       "      <td>0.2320</td>\n",
       "      <td>-0.4828</td>\n",
       "      <td>0.0</td>\n",
       "    </tr>\n",
       "    <tr>\n",
       "      <th>4</th>\n",
       "      <td>4</td>\n",
       "      <td>1.2932</td>\n",
       "      <td>-0.9039</td>\n",
       "      <td>-0.7219</td>\n",
       "      <td>0.2168</td>\n",
       "      <td>0.3484</td>\n",
       "      <td>0.3897</td>\n",
       "      <td>0.9131</td>\n",
       "      <td>0.9356</td>\n",
       "      <td>0.7675</td>\n",
       "      <td>...</td>\n",
       "      <td>-0.3544</td>\n",
       "      <td>-1.0150</td>\n",
       "      <td>2.2961</td>\n",
       "      <td>0.1817</td>\n",
       "      <td>-0.1572</td>\n",
       "      <td>0.0427</td>\n",
       "      <td>5.0048</td>\n",
       "      <td>3.8476</td>\n",
       "      <td>1.3223</td>\n",
       "      <td>1.0</td>\n",
       "    </tr>\n",
       "    <tr>\n",
       "      <th>...</th>\n",
       "      <td>...</td>\n",
       "      <td>...</td>\n",
       "      <td>...</td>\n",
       "      <td>...</td>\n",
       "      <td>...</td>\n",
       "      <td>...</td>\n",
       "      <td>...</td>\n",
       "      <td>...</td>\n",
       "      <td>...</td>\n",
       "      <td>...</td>\n",
       "      <td>...</td>\n",
       "      <td>...</td>\n",
       "      <td>...</td>\n",
       "      <td>...</td>\n",
       "      <td>...</td>\n",
       "      <td>...</td>\n",
       "      <td>...</td>\n",
       "      <td>...</td>\n",
       "      <td>...</td>\n",
       "      <td>...</td>\n",
       "      <td>...</td>\n",
       "    </tr>\n",
       "    <tr>\n",
       "      <th>1899</th>\n",
       "      <td>1899</td>\n",
       "      <td>0.1563</td>\n",
       "      <td>0.5543</td>\n",
       "      <td>-0.6149</td>\n",
       "      <td>0.4572</td>\n",
       "      <td>1.3822</td>\n",
       "      <td>-0.0537</td>\n",
       "      <td>-0.1323</td>\n",
       "      <td>0.2837</td>\n",
       "      <td>-0.0726</td>\n",
       "      <td>...</td>\n",
       "      <td>1.5304</td>\n",
       "      <td>1.1196</td>\n",
       "      <td>0.8116</td>\n",
       "      <td>0.0958</td>\n",
       "      <td>-1.2644</td>\n",
       "      <td>-0.3566</td>\n",
       "      <td>-0.2615</td>\n",
       "      <td>-0.6371</td>\n",
       "      <td>-0.5540</td>\n",
       "      <td>0.0</td>\n",
       "    </tr>\n",
       "    <tr>\n",
       "      <th>1900</th>\n",
       "      <td>1900</td>\n",
       "      <td>0.1343</td>\n",
       "      <td>0.9128</td>\n",
       "      <td>1.3017</td>\n",
       "      <td>0.7383</td>\n",
       "      <td>0.1841</td>\n",
       "      <td>0.0028</td>\n",
       "      <td>0.1243</td>\n",
       "      <td>2.2040</td>\n",
       "      <td>-0.6190</td>\n",
       "      <td>...</td>\n",
       "      <td>-0.6610</td>\n",
       "      <td>-0.1610</td>\n",
       "      <td>0.2251</td>\n",
       "      <td>0.5127</td>\n",
       "      <td>-0.3412</td>\n",
       "      <td>-1.0703</td>\n",
       "      <td>-0.6950</td>\n",
       "      <td>0.0641</td>\n",
       "      <td>-0.8863</td>\n",
       "      <td>1.0</td>\n",
       "    </tr>\n",
       "    <tr>\n",
       "      <th>1901</th>\n",
       "      <td>1901</td>\n",
       "      <td>1.8107</td>\n",
       "      <td>-0.2608</td>\n",
       "      <td>0.4006</td>\n",
       "      <td>-0.2985</td>\n",
       "      <td>0.0356</td>\n",
       "      <td>-0.1620</td>\n",
       "      <td>1.5486</td>\n",
       "      <td>1.5309</td>\n",
       "      <td>-1.3653</td>\n",
       "      <td>...</td>\n",
       "      <td>-0.5194</td>\n",
       "      <td>2.3968</td>\n",
       "      <td>0.5917</td>\n",
       "      <td>-0.8643</td>\n",
       "      <td>-1.3541</td>\n",
       "      <td>-1.8076</td>\n",
       "      <td>-0.1840</td>\n",
       "      <td>0.0967</td>\n",
       "      <td>-0.6264</td>\n",
       "      <td>1.0</td>\n",
       "    </tr>\n",
       "    <tr>\n",
       "      <th>1902</th>\n",
       "      <td>1902</td>\n",
       "      <td>-1.2746</td>\n",
       "      <td>-1.7695</td>\n",
       "      <td>-0.3454</td>\n",
       "      <td>-0.3850</td>\n",
       "      <td>0.6689</td>\n",
       "      <td>1.4531</td>\n",
       "      <td>1.0956</td>\n",
       "      <td>-0.0948</td>\n",
       "      <td>-0.6188</td>\n",
       "      <td>...</td>\n",
       "      <td>-1.5275</td>\n",
       "      <td>1.1070</td>\n",
       "      <td>0.2194</td>\n",
       "      <td>1.4317</td>\n",
       "      <td>-0.6985</td>\n",
       "      <td>-0.6046</td>\n",
       "      <td>-0.4915</td>\n",
       "      <td>-0.2847</td>\n",
       "      <td>-0.8041</td>\n",
       "      <td>0.0</td>\n",
       "    </tr>\n",
       "    <tr>\n",
       "      <th>1903</th>\n",
       "      <td>1903</td>\n",
       "      <td>-0.7525</td>\n",
       "      <td>0.7352</td>\n",
       "      <td>0.6448</td>\n",
       "      <td>-0.3241</td>\n",
       "      <td>-0.0434</td>\n",
       "      <td>1.7272</td>\n",
       "      <td>0.7193</td>\n",
       "      <td>3.1425</td>\n",
       "      <td>-0.2394</td>\n",
       "      <td>...</td>\n",
       "      <td>-0.9232</td>\n",
       "      <td>-0.3156</td>\n",
       "      <td>0.8828</td>\n",
       "      <td>0.7520</td>\n",
       "      <td>-1.4187</td>\n",
       "      <td>0.5257</td>\n",
       "      <td>-0.2316</td>\n",
       "      <td>-0.2081</td>\n",
       "      <td>-0.4328</td>\n",
       "      <td>0.0</td>\n",
       "    </tr>\n",
       "  </tbody>\n",
       "</table>\n",
       "<p>1904 rows × 491 columns</p>\n",
       "</div>"
      ],
      "text/plain": [
       "      Unnamed: 0   brca1   brca2   palb2    pten    tp53     atm    cdh1  \\\n",
       "0              0 -1.3990 -0.5738 -1.6217  1.4524  0.3504  1.1517  0.0348   \n",
       "1              1 -1.3800  0.2777 -1.2154  0.5296 -0.0136 -0.2659  1.3594   \n",
       "2              2  0.0670 -0.8426  0.2114 -0.3326  0.5141 -0.0803  1.1398   \n",
       "3              3  0.6744 -0.5428 -1.6592  0.6369  1.6708 -0.8880  1.2491   \n",
       "4              4  1.2932 -0.9039 -0.7219  0.2168  0.3484  0.3897  0.9131   \n",
       "...          ...     ...     ...     ...     ...     ...     ...     ...   \n",
       "1899        1899  0.1563  0.5543 -0.6149  0.4572  1.3822 -0.0537 -0.1323   \n",
       "1900        1900  0.1343  0.9128  1.3017  0.7383  0.1841  0.0028  0.1243   \n",
       "1901        1901  1.8107 -0.2608  0.4006 -0.2985  0.0356 -0.1620  1.5486   \n",
       "1902        1902 -1.2746 -1.7695 -0.3454 -0.3850  0.6689  1.4531  1.0956   \n",
       "1903        1903 -0.7525  0.7352  0.6448 -0.3241 -0.0434  1.7272  0.7193   \n",
       "\n",
       "       chek2     nbn  ...  srd5a2  srd5a3     st7    star    tnk2   tulp4  \\\n",
       "0     0.1266 -0.8361  ... -0.0194 -1.6345 -0.2142 -0.5698 -1.1741 -1.4779   \n",
       "1     0.7961  0.5419  ...  0.4534  0.4068  0.7634  0.0231  0.9121 -0.9538   \n",
       "2     0.4187 -0.4030  ...  0.0668  0.8344  1.7227  0.4024 -3.7172 -1.5538   \n",
       "3    -1.1889 -0.4174  ... -0.7078  0.8228  0.6819 -0.1948 -2.3286 -0.9924   \n",
       "4     0.9356  0.7675  ... -0.3544 -1.0150  2.2961  0.1817 -0.1572  0.0427   \n",
       "...      ...     ...  ...     ...     ...     ...     ...     ...     ...   \n",
       "1899  0.2837 -0.0726  ...  1.5304  1.1196  0.8116  0.0958 -1.2644 -0.3566   \n",
       "1900  2.2040 -0.6190  ... -0.6610 -0.1610  0.2251  0.5127 -0.3412 -1.0703   \n",
       "1901  1.5309 -1.3653  ... -0.5194  2.3968  0.5917 -0.8643 -1.3541 -1.8076   \n",
       "1902 -0.0948 -0.6188  ... -1.5275  1.1070  0.2194  1.4317 -0.6985 -0.6046   \n",
       "1903  3.1425 -0.2394  ... -0.9232 -0.3156  0.8828  0.7520 -1.4187  0.5257   \n",
       "\n",
       "      ugt2b15  ugt2b17  ugt2b7  death_from_cancer  \n",
       "0     -0.5954  -0.8847 -0.3354                0.0  \n",
       "1     -0.2264   0.5398 -0.8920                0.0  \n",
       "2      1.3701  -0.1078  0.3655                1.0  \n",
       "3     -0.3154   0.2320 -0.4828                0.0  \n",
       "4      5.0048   3.8476  1.3223                1.0  \n",
       "...       ...      ...     ...                ...  \n",
       "1899  -0.2615  -0.6371 -0.5540                0.0  \n",
       "1900  -0.6950   0.0641 -0.8863                1.0  \n",
       "1901  -0.1840   0.0967 -0.6264                1.0  \n",
       "1902  -0.4915  -0.2847 -0.8041                0.0  \n",
       "1903  -0.2316  -0.2081 -0.4328                0.0  \n",
       "\n",
       "[1904 rows x 491 columns]"
      ]
     },
     "execution_count": 4,
     "metadata": {},
     "output_type": "execute_result"
    }
   ],
   "source": [
    "mrna_df"
   ]
  },
  {
   "cell_type": "code",
   "execution_count": 5,
   "metadata": {},
   "outputs": [],
   "source": [
    "death_from_dict = {\n",
    "    'Living':0\n",
    "    ,'Died of Other Causes':0\n",
    "    ,'Died of Disease':1\n",
    "}\n",
    "df.replace(death_from_dict, inplace =True)"
   ]
  },
  {
   "cell_type": "code",
   "execution_count": 6,
   "metadata": {},
   "outputs": [],
   "source": [
    "filt1 = df.death_from_cancer ==1\n",
    "full_death_df =df[filt1]\n",
    "filt2 = df.death_from_cancer ==0\n",
    "full_non_death_df=df[filt2]"
   ]
  },
  {
   "cell_type": "code",
   "execution_count": 7,
   "metadata": {},
   "outputs": [
    {
     "data": {
      "text/plain": [
       "(1281, 693)"
      ]
     },
     "execution_count": 7,
     "metadata": {},
     "output_type": "execute_result"
    }
   ],
   "source": [
    "full_death_df.shape\n",
    "full_non_death_df.shape"
   ]
  },
  {
   "cell_type": "code",
   "execution_count": 8,
   "metadata": {},
   "outputs": [],
   "source": [
    "filt = mrna_df.death_from_cancer==1"
   ]
  },
  {
   "cell_type": "code",
   "execution_count": 9,
   "metadata": {},
   "outputs": [],
   "source": [
    "death_rna_df =mrna_df[filt]"
   ]
  },
  {
   "cell_type": "code",
   "execution_count": 10,
   "metadata": {},
   "outputs": [
    {
     "data": {
      "text/plain": [
       "(622, 491)"
      ]
     },
     "execution_count": 10,
     "metadata": {},
     "output_type": "execute_result"
    }
   ],
   "source": [
    "death_rna_df.shape"
   ]
  },
  {
   "cell_type": "code",
   "execution_count": 11,
   "metadata": {},
   "outputs": [
    {
     "data": {
      "text/plain": [
       "<AxesSubplot:>"
      ]
     },
     "execution_count": 11,
     "metadata": {},
     "output_type": "execute_result"
    },
    {
     "data": {
      "image/png": "[encoded data removed]",
      "text/plain": [
       "<Figure size 432x288 with 1 Axes>"
      ]
     },
     "metadata": {},
     "output_type": "display_data"
    }
   ],
   "source": [
    "full_death_df.overall_survival_months.hist()"
   ]
  },
  {
   "cell_type": "code",
   "execution_count": 12,
   "metadata": {},
   "outputs": [
    {
     "data": {
      "text/plain": [
       "<AxesSubplot:>"
      ]
     },
     "execution_count": 12,
     "metadata": {},
     "output_type": "execute_result"
    },
    {
     "data": {
      "image/png": "[encoded data removed]",
      "text/plain": [
       "<Figure size 432x288 with 1 Axes>"
      ]
     },
     "metadata": {},
     "output_type": "display_data"
    }
   ],
   "source": [
    "full_non_death_df.overall_survival_months.hist()"
   ]
  },
  {
   "cell_type": "code",
   "execution_count": 28,
   "metadata": {},
   "outputs": [
    {
     "data": {
      "image/png": "[encoded data removed]",
      "text/plain": [
       "<Figure size 432x288 with 1 Axes>"
      ]
     },
     "metadata": {},
     "output_type": "display_data"
    }
   ],
   "source": [
    "# ax = full_non_death_df[\"overall_survival_months\"].hist(bins=15, density=True, stacked=True, color='k', alpha=0.6)\n",
    "# ax=full_death_df[\"overall_survival_months\"].hist(bins=15, density=True, stacked=True, color='b', alpha=0.6)\n",
    "ax = full_non_death_df[\"overall_survival_months\"].plot(kind='density', color='g', label = 'non-cancer death')\n",
    "full_death_df[\"overall_survival_months\"].plot(kind='density', color='red', label = 'cancer death')\n",
    "ax.set(xlabel='Months')\n",
    "ax.set_title('Surival months after diagnosis')\n",
    "ax.plot(figsize = (12,12))\n",
    "ax.set_ylabel('Probability Density')\n",
    "plt.xlim(0)\n",
    "plt.legend()\n",
    "plt.savefig(\"probability_density_cancer_death_non_cancer_death.png\")\n",
    "plt.show()"
   ]
  },
  {
   "cell_type": "code",
   "execution_count": 14,
   "metadata": {},
   "outputs": [
    {
     "name": "stderr",
     "output_type": "stream",
     "text": [
      "/Users/cpsanto/opt/anaconda3/lib/python3.7/site-packages/ipykernel_launcher.py:3: SettingWithCopyWarning: \n",
      "A value is trying to be set on a copy of a slice from a DataFrame.\n",
      "Try using .loc[row_indexer,col_indexer] = value instead\n",
      "\n",
      "See the caveats in the documentation: https://pandas.pydata.org/pandas-docs/stable/user_guide/indexing.html#returning-a-view-versus-a-copy\n",
      "  This is separate from the ipykernel package so we can avoid doing imports until\n"
     ]
    }
   ],
   "source": [
    "import statsmodels.api as sm \n",
    "from statsmodels.formula.api import ols\n",
    "death_rna_df['overall_survival_months'] = df.overall_survival_months"
   ]
  },
  {
   "cell_type": "code",
   "execution_count": 15,
   "metadata": {},
   "outputs": [],
   "source": [
    "y =death_rna_df.pop('overall_survival_months')\n",
    "X = death_rna_df"
   ]
  },
  {
   "cell_type": "code",
   "execution_count": 20,
   "metadata": {},
   "outputs": [
    {
     "data": {
      "text/plain": [
       "2       163.700000\n",
       "4        41.366667\n",
       "5         7.800000\n",
       "9        36.266667\n",
       "10      132.033333\n",
       "           ...    \n",
       "1895      6.833333\n",
       "1896     78.466667\n",
       "1898     82.733333\n",
       "1900     44.733333\n",
       "1901    175.966667\n",
       "Name: overall_survival_months, Length: 622, dtype: float64"
      ]
     },
     "execution_count": 20,
     "metadata": {},
     "output_type": "execute_result"
    }
   ],
   "source": [
    "y"
   ]
  },
  {
   "cell_type": "code",
   "execution_count": 23,
   "metadata": {},
   "outputs": [],
   "source": [
    "X_train, X_val, y_train, y_val = train_test_split(X, y, test_size=0.15, random_state=1)\n",
    "X_train2, X_test, y_train2, y_test = train_test_split(X_train.copy(), y_train.copy(), test_size=0.10, random_state=1)"
   ]
  },
  {
   "cell_type": "code",
   "execution_count": null,
   "metadata": {},
   "outputs": [],
   "source": [
    "gradient_boosting_grid = {'learning_rate': [0.1, 0.2, 0.3, 0.4, 0.5]\n",
    "                         ,'max_depth': [2, 4, 8]\n",
    "                         ,'subsample': [0.25, 0.5, 0.75, 1.0]\n",
    "                         ,'min_samples_leaf': [1, 2, 4]\n",
    "                         ,'max_features': ['sqrt', 'log2', None]\n",
    "                         ,'n_estimators': [5,10,25,50,100,200]}\n",
    "\n",
    "random_forest_grid = {'max_depth': [2, 4, 8]\n",
    "                     ,'max_features': ['sqrt', 'log2', None]\n",
    "                     ,'min_samples_leaf': [1, 2, 4]\n",
    "                     ,'min_samples_split': [2, 4]\n",
    "                     ,'bootstrap': [True, False]\n",
    "                     ,'n_estimators': [5,10,25,50,100,200]}\n",
    "\n",
    "logistic_regression_grid = {'Cs':[2, 5]\n",
    "                       ,'cv':[2,4,8]\n",
    "                       ,'solver':['lbfgs', 'liblinear']\n",
    "                       ,'max_iter' : [50]\n",
    "\n",
    "                       }\n",
    "svm_grid = {'C':[0.5, 1, 2]\n",
    "\n",
    "                       ,'kernel':['rbf', 'liblinear']}"
   ]
  },
  {
   "cell_type": "code",
   "execution_count": null,
   "metadata": {},
   "outputs": [],
   "source": [
    "\n",
    "logistic_randomsearch = RandomizedSearchCV(LogisticRegressionCV()\n",
    "                                              ,logistic_regression_grid\n",
    "                                              ,n_jobs=-1\n",
    "                                              ,verbose=False\n",
    "                                              ,scoring='roc_auc')\n",
    "\n",
    "svm_randomsearch = RandomizedSearchCV(SVC(gamma = 'auto')\n",
    "                                              ,svm_grid\n",
    "                                              ,n_jobs=-1\n",
    "                                              ,verbose=False\n",
    "                                              ,scoring='roc_auc')\n",
    "\n",
    "gradient_randomsearch = RandomizedSearchCV(GradientBoostingClassifier()\n",
    "                                          ,gradient_boosting_grid\n",
    "                                          ,n_jobs=-1\n",
    "                                          ,verbose=False\n",
    "                                          ,scoring='roc_auc')\n",
    "\n",
    "random_foreset_randomsearch = RandomizedSearchCV(RandomForestClassifier()\n",
    "                                                ,random_forest_grid\n",
    "                                                ,n_jobs=-1\n",
    "                                                ,verbose=False\n",
    "                                                ,scoring='roc_auc')"
   ]
  },
  {
   "cell_type": "code",
   "execution_count": null,
   "metadata": {},
   "outputs": [],
   "source": [
    "logistic_randomsearch.fit(X_train, y_train)\n",
    "print(f\"Best logistic Parameters: {logistic_randomsearch.best_params_}\")\n",
    "print(f\"Best logistic Model: {logistic_randomsearch.best_estimator_}\")\n",
    "print(f\"Best logistic Score: {logistic_randomsearch.best_score_:.4f}\")\n",
    "\n",
    "svm_randomsearch.fit(X_train, y_train)\n",
    "print(f\"Best svm Parameters: {svm_randomsearch.best_params_}\")\n",
    "print(f\"Best svm Model: {svm_randomsearch.best_estimator_}\")\n",
    "print(f\"Best svm Score: {svm_randomsearch.best_score_:.4f}\")\n",
    "\n",
    "gradient_randomsearch.fit(X_train, y_train)\n",
    "print(f\"Best Gradient Parameters: {gradient_randomsearch.best_params_}\")\n",
    "print(f\"Best Gradient Model: {gradient_randomsearch.best_estimator_}\")\n",
    "print(f\"Best Gradient Score: {gradient_randomsearch.best_score_:.4f}\")\n",
    "\n",
    "random_foreset_randomsearch.fit(X_train, y_train)\n",
    "print(f\"Best Random Forest Parameters: {random_foreset_randomsearch.best_params_}\")\n",
    "print(f\"Best Random Forest Model: {random_foreset_randomsearch.best_estimator_}\")\n",
    "print(f\"Best Random Forest Score: {random_foreset_randomsearch.best_score_:.4f}\")"
   ]
  },
  {
   "cell_type": "code",
   "execution_count": null,
   "metadata": {},
   "outputs": [],
   "source": [
    "df.info(verbose = True)"
   ]
  },
  {
   "cell_type": "code",
   "execution_count": 26,
   "metadata": {},
   "outputs": [
    {
     "name": "stdout",
     "output_type": "stream",
     "text": [
      "For RandomForestRegressor(n_jobs=-1, random_state=1), the neg_mean_squared_error score is 3060.60\n",
      "For RandomForestRegressor(n_jobs=-1, random_state=1), the r2 score is 0.13\n",
      "For GradientBoostingRegressor(random_state=1), the neg_mean_squared_error score is 3105.72\n",
      "For GradientBoostingRegressor(random_state=1), the r2 score is 0.12\n",
      "For DecisionTreeRegressor(random_state=1), the neg_mean_squared_error score is 5138.30\n",
      "For DecisionTreeRegressor(random_state=1), the r2 score is -0.47\n",
      "For GradientBoostingRegressor(learning_rate=1, random_state=1), the neg_mean_squared_error score is 6081.03\n",
      "For GradientBoostingRegressor(learning_rate=1, random_state=1), the r2 score is -0.72\n",
      "Fitting 5 folds for each of 288 candidates, totalling 1440 fits\n"
     ]
    },
    {
     "name": "stderr",
     "output_type": "stream",
     "text": [
      "[Parallel(n_jobs=-1)]: Using backend LokyBackend with 4 concurrent workers.\n",
      "[Parallel(n_jobs=-1)]: Done  42 tasks      | elapsed:    3.6s\n",
      "[Parallel(n_jobs=-1)]: Done 192 tasks      | elapsed:   12.1s\n",
      "[Parallel(n_jobs=-1)]: Done 442 tasks      | elapsed:  1.4min\n",
      "[Parallel(n_jobs=-1)]: Done 792 tasks      | elapsed:  4.5min\n",
      "[Parallel(n_jobs=-1)]: Done 1242 tasks      | elapsed:  6.7min\n",
      "[Parallel(n_jobs=-1)]: Done 1440 out of 1440 | elapsed: 11.7min finished\n"
     ]
    },
    {
     "name": "stdout",
     "output_type": "stream",
     "text": [
      "best parameters: {'bootstrap': True, 'max_depth': 3, 'max_features': None, 'min_samples_leaf': 4, 'min_samples_split': 2, 'n_estimators': 80, 'random_state': 1}\n",
      "3033.992597660425\n",
      "655.8848724601604\n"
     ]
    }
   ],
   "source": [
    " rf = RandomForestRegressor(n_estimators=100,\n",
    "                            n_jobs=-1,\n",
    "                            random_state=1)\n",
    "\n",
    "gdbr = GradientBoostingRegressor(learning_rate=0.1,\n",
    "                              loss='ls',\n",
    "                              n_estimators=100,\n",
    "                              random_state=1)\n",
    "\n",
    "dtr = DecisionTreeRegressor(random_state=1)\n",
    "\n",
    "gdbr_bad = GradientBoostingRegressor(learning_rate=1,\n",
    "                              loss='ls',\n",
    "                              n_estimators=100,\n",
    "                              random_state=1)\n",
    "\n",
    "for model in [rf, gdbr, dtr, gdbr_bad]:\n",
    "    for score in ['neg_mean_squared_error', 'r2']:\n",
    "        score_val = np.mean(cross_val_score(model, X_train, y_train, scoring=score, cv=5))\n",
    "        if score == 'neg_mean_squared_error':\n",
    "            score_val *= -1\n",
    "        print(f'For {model}, the {score} score is {score_val:.2f}')\n",
    "\n",
    "\n",
    "random_forest_grid = {'max_depth': [3, None],\n",
    "                  'max_features': ['sqrt', 'log2', None],\n",
    "                  'min_samples_split': [2, 4],\n",
    "                  'min_samples_leaf': [1, 2, 4],\n",
    "                  'bootstrap': [True, False],\n",
    "                  'n_estimators': [10, 20, 40, 80],\n",
    "                  'random_state': [1]}\n",
    "\n",
    "rf_gridsearch = GridSearchCV(RandomForestRegressor(),\n",
    "                             random_forest_grid,\n",
    "                             n_jobs=-1,\n",
    "                             verbose=True,\n",
    "                             scoring='neg_mean_squared_error')\n",
    "rf_gridsearch.fit(X_train, y_train)\n",
    "\n",
    "print(\"best parameters:\", rf_gridsearch.best_params_)\n",
    "\n",
    "best_rf_model = rf_gridsearch.best_estimator_\n",
    "\n",
    "print(mean_squared_error(y_test, best_rf_model.predict(X_test)))\n",
    "\n",
    "default_model = RandomForestRegressor()\n",
    "default_model.fit(X_train, y_train)\n",
    "print(mean_squared_error(y_test, default_model.predict(X_test))) "
   ]
  },
  {
   "cell_type": "code",
   "execution_count": null,
   "metadata": {},
   "outputs": [],
   "source": []
  }
 ],
 "metadata": {
  "kernelspec": {
   "display_name": "Python 3",
   "language": "python",
   "name": "python3"
  },
  "language_info": {
   "codemirror_mode": {
    "name": "ipython",
    "version": 3
   },
   "file_extension": ".py",
   "mimetype": "text/x-python",
   "name": "python",
   "nbconvert_exporter": "python",
   "pygments_lexer": "ipython3",
   "version": "3.7.9"
  }
 },
 "nbformat": 4,
 "nbformat_minor": 4
}
